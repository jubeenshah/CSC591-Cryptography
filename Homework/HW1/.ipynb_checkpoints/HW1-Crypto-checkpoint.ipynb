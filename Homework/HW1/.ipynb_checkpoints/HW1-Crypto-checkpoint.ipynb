{
 "cells": [
  {
   "cell_type": "code",
   "execution_count": 20,
   "metadata": {
    "scrolled": false
   },
   "outputs": [
    {
     "name": "stdout",
     "output_type": "stream",
     "text": [
      "Message:  0 | Key:  0 |Cipher :  0 |Message:  0\n",
      "Message:  0 | Key:  1 |Cipher :  1 |Message:  0\n",
      "Message:  0 | Key:  2 |Cipher :  2 |Message:  0\n",
      "Message:  0 | Key:  3 |Cipher :  3 |Message:  0\n",
      "Message:  0 | Key:  4 |Cipher :  0 |Message:  0\n",
      "Message:  1 | Key:  0 |Cipher :  1 |Message:  1\n",
      "Message:  1 | Key:  1 |Cipher :  2 |Message:  1\n",
      "Message:  1 | Key:  2 |Cipher :  3 |Message:  1\n",
      "Message:  1 | Key:  3 |Cipher :  0 |Message:  1\n",
      "Message:  1 | Key:  4 |Cipher :  1 |Message:  1\n",
      "Message:  2 | Key:  0 |Cipher :  2 |Message:  2\n",
      "Message:  2 | Key:  1 |Cipher :  3 |Message:  2\n",
      "Message:  2 | Key:  2 |Cipher :  0 |Message:  2\n",
      "Message:  2 | Key:  3 |Cipher :  1 |Message:  2\n",
      "Message:  2 | Key:  4 |Cipher :  2 |Message:  2\n",
      "Message:  3 | Key:  0 |Cipher :  3 |Message:  3\n",
      "Message:  3 | Key:  1 |Cipher :  0 |Message:  3\n",
      "Message:  3 | Key:  2 |Cipher :  1 |Message:  3\n",
      "Message:  3 | Key:  3 |Cipher :  2 |Message:  3\n",
      "Message:  3 | Key:  4 |Cipher :  3 |Message:  3\n"
     ]
    }
   ],
   "source": [
    "M = [0, 1, 2, 3]\n",
    "K = [0, 1, 2, 3, 4]\n",
    "\n",
    "def Encrypt(m,k):\n",
    "    c = (m + k) % 4\n",
    "    return c\n",
    "\n",
    "def Decrypt(c,k):\n",
    "    m = (c - k) % 4\n",
    "    return m\n",
    "\n",
    "def Question(M,K):\n",
    "    for i in M:\n",
    "        for j in K:\n",
    "            encryptedMessage = Encrypt(i,j)\n",
    "            \n",
    "            decryptedMessage = Decrypt(encryptedMessage,j)\n",
    "            print(\"Message: \", i, \"| Key: \", j, \"|Cipher : \", encryptedMessage,\"|Message: \", decryptedMessage)\n",
    "            #print(\"Cipher : \", encryptedMessage, \"Key: \", j,\"Message: \", decryptedMessage)\n",
    "            #if i == decryptedMessage:\n",
    "                #print(\"Success\")\n",
    "            #else:\n",
    "                #print(\"CHECK THIS CASE\")\n",
    "            #print(\"------------------------------------------\")\n",
    "\n",
    "Question(M,K)"
   ]
  },
  {
   "cell_type": "code",
   "execution_count": 70,
   "metadata": {},
   "outputs": [
    {
     "ename": "TypeError",
     "evalue": "unsupported operand type(s) for ^: 'str' and 'str'",
     "output_type": "error",
     "traceback": [
      "\u001b[0;31m---------------------------------------------------------------------------\u001b[0m",
      "\u001b[0;31mTypeError\u001b[0m                                 Traceback (most recent call last)",
      "\u001b[0;32m<ipython-input-70-14e493f584be>\u001b[0m in \u001b[0;36m<module>\u001b[0;34m()\u001b[0m\n\u001b[1;32m      4\u001b[0m     \u001b[0mx\u001b[0m \u001b[0;34m=\u001b[0m \u001b[0;34m(\u001b[0m\u001b[0mformat\u001b[0m\u001b[0;34m(\u001b[0m\u001b[0mi\u001b[0m\u001b[0;34m,\u001b[0m\u001b[0;34m(\u001b[0m\u001b[0;34m'003b'\u001b[0m\u001b[0;34m)\u001b[0m\u001b[0;34m)\u001b[0m\u001b[0;34m)\u001b[0m\u001b[0;34m\u001b[0m\u001b[0m\n\u001b[1;32m      5\u001b[0m     \u001b[0mcounter\u001b[0m \u001b[0;34m=\u001b[0m \u001b[0;36m0\u001b[0m\u001b[0;34m\u001b[0m\u001b[0m\n\u001b[0;32m----> 6\u001b[0;31m     \u001b[0mprint\u001b[0m\u001b[0;34m(\u001b[0m\u001b[0mx\u001b[0m\u001b[0;34m^\u001b[0m\u001b[0;34m'000'\u001b[0m\u001b[0;34m)\u001b[0m\u001b[0;34m\u001b[0m\u001b[0m\n\u001b[0m\u001b[1;32m      7\u001b[0m     \u001b[0;32mfor\u001b[0m \u001b[0mj\u001b[0m \u001b[0;32min\u001b[0m \u001b[0mx\u001b[0m\u001b[0;34m:\u001b[0m\u001b[0;34m\u001b[0m\u001b[0m\n\u001b[1;32m      8\u001b[0m         \u001b[0;32mif\u001b[0m \u001b[0mj\u001b[0m \u001b[0;34m==\u001b[0m \u001b[0;34m'1'\u001b[0m\u001b[0;34m:\u001b[0m\u001b[0;34m\u001b[0m\u001b[0m\n",
      "\u001b[0;31mTypeError\u001b[0m: unsupported operand type(s) for ^: 'str' and 'str'"
     ]
    }
   ],
   "source": [
    "n = 3\n",
    "\n",
    "for i in range(1, 2**n):\n",
    "    x = (format(i,('003b')))\n",
    "    counter = 0\n",
    "    for j in x:\n",
    "        if j == '1':\n",
    "            #print(j)\n",
    "            counter+=1\n",
    "    if counter % 2 == 0:\n",
    "        print(x)"
   ]
  },
  {
   "cell_type": "code",
   "execution_count": 67,
   "metadata": {},
   "outputs": [
    {
     "name": "stdout",
     "output_type": "stream",
     "text": [
      "Message:  0 | Key:  2 |Cipher :  2 |Message:  0\n",
      "Message:  1 | Key:  2 |Cipher :  3 |Message:  1\n",
      "Message:  2 | Key:  2 |Cipher :  0 |Message:  2\n",
      "Message:  3 | Key:  2 |Cipher :  1 |Message:  3\n"
     ]
    }
   ],
   "source": [
    "M = [0, 1, 2, 3]\n",
    "K = [2]\n",
    "\n",
    "def Encrypt(m,k):\n",
    "    c = m ^ k\n",
    "    #print(c)\n",
    "    return c\n",
    "\n",
    "def Decrypt(c,k):\n",
    "    m = c ^ k\n",
    "    return m\n",
    "\n",
    "def Question(M,K):\n",
    "    for i in M:\n",
    "        for j in K:\n",
    "            encryptedMessage = Encrypt(i,j)\n",
    "            \n",
    "            decryptedMessage = Decrypt(encryptedMessage,j)\n",
    "            print(\"Message: \", i, \"| Key: \", j, \"|Cipher : \", encryptedMessage,\"|Message: \", decryptedMessage)\n",
    "            #print(\"Cipher : \", encryptedMessage, \"Key: \", j,\"Message: \", decryptedMessage)\n",
    "            #if i == decryptedMessage:\n",
    "                #print(\"Success\")\n",
    "            #else:\n",
    "                #print(\"CHECK THIS CASE\")\n",
    "            #print(\"------------------------------------------\")\n",
    "\n",
    "Question(M,K)"
   ]
  },
  {
   "cell_type": "code",
   "execution_count": 77,
   "metadata": {},
   "outputs": [
    {
     "name": "stdout",
     "output_type": "stream",
     "text": [
      "110\n"
     ]
    }
   ],
   "source": [
    "a = \"110\"\n",
    "b = \"000\"\n",
    "y = int(a,2) ^ int(b,2)\n",
    "print ('{0:003b}'.format(y))"
   ]
  },
  {
   "cell_type": "code",
   "execution_count": 1,
   "metadata": {},
   "outputs": [],
   "source": [
    "from random import choice\n",
    "import string\n",
    "\n",
    "\n",
    "def convert_to_bits(s):\n",
    "    \"\"\"Converts string s to a string containing only 0s or 1s,\n",
    "    representing the original string.\"\"\"\n",
    "    return \"\".join(format(ord(x), 'b') for x in s)\n",
    "\n",
    "\n",
    "def gen_random_key(n):\n",
    "    \"\"\"Generates a random key of bits (with 0s or 1s) of length n\"\"\"\n",
    "    k = []\n",
    "    for i in range(n):\n",
    "        k.append(choice([\"0\", \"1\"]))\n",
    "    return \"\".join(k)\n",
    "\n",
    "\n",
    "def xor(m, k):\n",
    "    \"\"\"Given strings m and k of characters 0 or 1,\n",
    "    it returns the string representing the XOR\n",
    "    between each character in the same position.\n",
    "    This means that m and k should be of the same length.\n",
    "\n",
    "    Use this function both for encrypting and decrypting!\"\"\"\n",
    "    r = []\n",
    "    for i, j in zip(m, k):\n",
    "        r.append(str(int(i) ^ int(j)))  # xor between bits i and j\n",
    "    return \"\".join(r)\n",
    "\n",
    "\n",
    "if __name__ == \"__main__\":\n",
    "    ls = []\n",
    "\n",
    "    for i in range(100):\n",
    "        for i in range(100):\n",
    "            ls.append(choice(string.ascii_letters))\n",
    "\n",
    "        s = \"\".join(ls)\n",
    "\n",
    "        bits = convert_to_bits(s)\n",
    "        key = gen_random_key(len(bits))\n",
    "        cipher = xor(bits, key)\n",
    "        original = xor(key, cipher)\n",
    "\n",
    "        if original != bits:\n",
    "            raise Exception(\"Something wrong with the implementation...\")"
   ]
  },
  {
   "cell_type": "code",
   "execution_count": 15,
   "metadata": {},
   "outputs": [
    {
     "name": "stdout",
     "output_type": "stream",
     "text": [
      "['0', '1', '0', '1', '0', '0', '0', '1', '0', '0']\n"
     ]
    },
    {
     "data": {
      "text/plain": [
       "'0101000100'"
      ]
     },
     "execution_count": 15,
     "metadata": {},
     "output_type": "execute_result"
    }
   ],
   "source": [
    "def gen_random_key_even(n):\n",
    "    \"\"\"Generates a random key of bits (with 0s or 1s) of length n\"\"\"\n",
    "    k = []\n",
    "    for i in range(n):\n",
    "        k.append(choice([\"0\", \"1\"]))\n",
    "    print(\"\".join(k))\n",
    "    return \"\".join(k)\n",
    "\n",
    "\n",
    "gen_random_key_even(10)"
   ]
  },
  {
   "cell_type": "code",
   "execution_count": null,
   "metadata": {},
   "outputs": [],
   "source": []
  }
 ],
 "metadata": {
  "kernelspec": {
   "display_name": "Python 3",
   "language": "python",
   "name": "python3"
  },
  "language_info": {
   "codemirror_mode": {
    "name": "ipython",
    "version": 3
   },
   "file_extension": ".py",
   "mimetype": "text/x-python",
   "name": "python",
   "nbconvert_exporter": "python",
   "pygments_lexer": "ipython3",
   "version": "3.6.5"
  }
 },
 "nbformat": 4,
 "nbformat_minor": 2
}
